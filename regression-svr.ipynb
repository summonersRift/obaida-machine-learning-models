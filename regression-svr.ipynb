{
 "cells": [
  {
   "cell_type": "code",
   "execution_count": 1,
   "metadata": {},
   "outputs": [
    {
     "name": "stdout",
     "output_type": "stream",
     "text": [
      "Lets getstarted with non linear regression\n"
     ]
    }
   ],
   "source": [
    "#!/usr/bin/env python\n",
    "print (\"Lets getstarted with non linear regression\")\n",
    "import math\n",
    "import numpy as np\n",
    "import matplotlib.pyplot as plt\n",
    "from sklearn.svm import SVR\n",
    "from sklearn.linear_model import LinearRegression\n",
    "\n",
    "\n",
    "#train data/model input\n",
    "x = np.array([[64], [128], [256],[512]])\n",
    "y = np.array([[38440.0], [158760.0],  [645160.0], [2601000.0]])\n",
    "yflat = np.array([38440.0, 158760.0,  645160.0, 2601000.0])\n",
    "\n",
    "x_log = np.array([[math.log(d,2)] for d in x])\n",
    "\n",
    "#here, we are giving an estimated model\n",
    "x_new = np.hstack([ x_log, x, x**2, x**3]) # if you take x**4 it might overfit\n"
   ]
  },
  {
   "cell_type": "markdown",
   "metadata": {},
   "source": [
    "# Building Models\n",
    "Lets build some sample models."
   ]
  },
  {
   "cell_type": "code",
   "execution_count": 2,
   "metadata": {},
   "outputs": [],
   "source": [
    "####################################\n",
    "#model 1 -- scikit linear regression\n",
    "model = LinearRegression()\n",
    "model.fit(x_new,y)\n",
    "\n",
    "#to hecking model\n",
    "#x.shape\n",
    "#x_new.shape\n",
    "#model.coef_\n",
    "#model.intercept_\n",
    "\n",
    "#test data \n",
    "xt = np.array([[256], [512], [1024], [2048],[4096], \n",
    "               [8*1024],[16*1024], [1024*32]\n",
    "              ])\n",
    "xt_log = np.array([[math.log(d,2)] for d in xt])\n",
    "x_target = np.hstack([xt_log, xt, xt**2, xt**3])\n",
    "y_pred = model.predict(x_target) #LinearRegression()--sklearn.linear_model\n",
    "\n",
    "\n",
    "#Model 2 SVR/POLY -- http://scikit-learn.org/stable/auto_examples/svm/plot_svm_regression.html\n",
    "svr_poly = SVR(kernel='poly', C=1e3, degree=2, gamma='scale')\n",
    "model_poly = svr_poly.fit(x, yflat)\n",
    "xtest_large = np.array([[4096], [8192], [16384] ])\n",
    "y_poly = model_poly.predict(xtest_large)\n",
    "\n",
    "\n",
    "#Model 3 -- SVR LINEAR\n",
    "#svr_lin = SVR(kernel='linear', C=1e3)\n",
    "\n",
    "#Model 4, SVR RBF kernel\n",
    "#svr_rbf = SVR(kernel='rbf', C=1e3, gamma=0.1)\n",
    "#model_rbf  = svr_rbf.fit(x, yflat)\n",
    "#xtest2 = np.array([[512], [1024], [2048], [4096], [8192] ])\n",
    "#y_rbf = model_rbf.predict(xtest2)\n",
    "#plt.plot(xtest2, y_rbf, color='navy', lw=lw, label='RBF model')"
   ]
  },
  {
   "cell_type": "markdown",
   "metadata": {},
   "source": [
    "## Lets Plot our results and the source data\n",
    "We can write the results to a file or plot using matplotlib"
   ]
  },
  {
   "cell_type": "code",
   "execution_count": 3,
   "metadata": {},
   "outputs": [
    {
     "data": {
      "image/png": "[encoded data removed]",
      "text/plain": [
       "<Figure size 432x288 with 1 Axes>"
      ]
     },
     "metadata": {
      "needs_background": "light"
     },
     "output_type": "display_data"
    }
   ],
   "source": [
    "#markers: ['o', '.', ',', 'x', '+', 'v', '^', '<', '>', 's', 'd']:#default o\n",
    "#linestyle: '-', '--', '-.', ':', '', (offset, on-off-seq), ...}\n",
    "\n",
    "lw, msize = 2, 10\n",
    "plt.xlabel('Problem Size')\n",
    "plt.ylabel('Kernel Iterations')\n",
    "plt.title('Iteration Estimation SVR vs. Linear')\n",
    "\n",
    "#our plots\n",
    "plt.scatter(x,y,marker=\"o\", label=\"Data\",\n",
    "          edgecolor='black', facecolor='none', s=50.0)\n",
    "plt.plot(xt,y_pred,'blue', label=\"LinearRegression\", marker=\"+\", linestyle=\"-.\", ms=msize)\n",
    "plt.plot(xtest_large, y_poly, color='black', lw=lw, linestyle=\"--\",label='Polynomial/Scaling SVR', marker=\"x\", ms=msize)\n",
    "\n",
    "plt.legend() #oldest last\n",
    "plt.show()\n"
   ]
  },
  {
   "cell_type": "code",
   "execution_count": null,
   "metadata": {},
   "outputs": [],
   "source": []
  }
 ],
 "metadata": {
  "kernelspec": {
   "display_name": "Python 2",
   "language": "python",
   "name": "python2"
  },
  "language_info": {
   "codemirror_mode": {
    "name": "ipython",
    "version": 2
   },
   "file_extension": ".py",
   "mimetype": "text/x-python",
   "name": "python",
   "nbconvert_exporter": "python",
   "pygments_lexer": "ipython2",
   "version": "2.7.15rc1"
  }
 },
 "nbformat": 4,
 "nbformat_minor": 2
}
